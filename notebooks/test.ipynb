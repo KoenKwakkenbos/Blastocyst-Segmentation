{
 "cells": [
  {
   "cell_type": "code",
   "execution_count": 11,
   "metadata": {},
   "outputs": [],
   "source": [
    "# Import numpy for array manipulation\n",
    "import numpy as np\n",
    "import os\n",
    "import yaml\n",
    "\n",
    "np.random.seed(0)\n",
    "\n",
    "files = os.listdir(r\"C:\\Users\\koenk\\Documents\\Master_Thesis\\Data\\Processed_data\\images/\")\n",
    "\n",
    "# Assume the IDs are stored in a list called ids\n",
    "ids = np.unique([int(file.split(\"_\")[0][1:]) for file in files if file.endswith(\".JPG\")])\n",
    "\n",
    "# Shuffle the IDs randomly\n",
    "np.random.shuffle(ids)\n",
    "\n",
    "# Split the IDs into 4 folds\n",
    "folds = np.array_split(ids, 4)\n",
    "\n",
    "# Initialize a set to store the IDs that have been used for internal validation\n",
    "used_ids = set()\n",
    "\n",
    "output = {}\n",
    "\n",
    "# Loop over the folds\n",
    "for i in range(4):\n",
    "    # Select the ith fold as the test set\n",
    "    test_set = folds[i]\n",
    "    \n",
    "    # Concatenate the remaining folds as the training set\n",
    "    train_set = np.concatenate([folds[j] for j in range(4) if j != i])\n",
    "    \n",
    "    # Select 20% of the training set as the internal validation set\n",
    "    # Make sure the IDs are not in the used_ids set\n",
    "    valid_set = np.random.choice([id for id in train_set if id not in used_ids], size=int(len(train_set) * 0.2), replace=False)\n",
    "    \n",
    "    # Add the IDs in the validation set to the used_ids set\n",
    "    used_ids.update(valid_set)\n",
    "    \n",
    "    # Store the test, train, and validation sets for the ith fold in the output dictionary\n",
    "    output[f\"Fold {i+1}\"] = {\"Test set\": test_set.tolist(), \"Train set\": train_set.tolist(), \"Validation set\": valid_set.tolist()}\n",
    "\n",
    "# Open a file for writing the output data in YAML format\n",
    "with open(\"output.yaml\", \"w\") as yaml_file:\n",
    "    # Dump the output data to the file using the yaml module\n",
    "    yaml.dump(output, yaml_file, default_flow_style=False)"
   ]
  }
 ],
 "metadata": {
  "kernelspec": {
   "display_name": "Env_Blastocyst",
   "language": "python",
   "name": "python3"
  },
  "language_info": {
   "codemirror_mode": {
    "name": "ipython",
    "version": 3
   },
   "file_extension": ".py",
   "mimetype": "text/x-python",
   "name": "python",
   "nbconvert_exporter": "python",
   "pygments_lexer": "ipython3",
   "version": "3.10.13"
  }
 },
 "nbformat": 4,
 "nbformat_minor": 2
}
